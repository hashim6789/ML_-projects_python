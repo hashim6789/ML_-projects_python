{
 "cells": [
  {
   "cell_type": "code",
   "execution_count": 1,
   "metadata": {},
   "outputs": [],
   "source": [
    "import numpy as np\n",
    "import pandas as pd\n",
    "import matplotlib.pyplot as plt\n",
    "import seaborn as sns"
   ]
  },
  {
   "cell_type": "markdown",
   "metadata": {},
   "source": [
    "Data collection"
   ]
  },
  {
   "cell_type": "code",
   "execution_count": 2,
   "metadata": {},
   "outputs": [
    {
     "data": {
      "text/html": [
       "<div>\n",
       "<style scoped>\n",
       "    .dataframe tbody tr th:only-of-type {\n",
       "        vertical-align: middle;\n",
       "    }\n",
       "\n",
       "    .dataframe tbody tr th {\n",
       "        vertical-align: top;\n",
       "    }\n",
       "\n",
       "    .dataframe thead th {\n",
       "        text-align: right;\n",
       "    }\n",
       "</style>\n",
       "<table border=\"1\" class=\"dataframe\">\n",
       "  <thead>\n",
       "    <tr style=\"text-align: right;\">\n",
       "      <th></th>\n",
       "      <th>id</th>\n",
       "      <th>batting_team</th>\n",
       "      <th>bowling_team</th>\n",
       "      <th>city</th>\n",
       "      <th>runs_left</th>\n",
       "      <th>balls_left</th>\n",
       "      <th>wickets_remaining</th>\n",
       "      <th>total_run_x</th>\n",
       "      <th>crr</th>\n",
       "      <th>rrr</th>\n",
       "      <th>results</th>\n",
       "    </tr>\n",
       "  </thead>\n",
       "  <tbody>\n",
       "    <tr>\n",
       "      <th>0</th>\n",
       "      <td>0</td>\n",
       "      <td>Gujarat Titans</td>\n",
       "      <td>Rajasthan Royals</td>\n",
       "      <td>Ahmedabad</td>\n",
       "      <td>131</td>\n",
       "      <td>125</td>\n",
       "      <td>10</td>\n",
       "      <td>131</td>\n",
       "      <td>-0.0</td>\n",
       "      <td>6.29</td>\n",
       "      <td>1</td>\n",
       "    </tr>\n",
       "    <tr>\n",
       "      <th>1</th>\n",
       "      <td>1</td>\n",
       "      <td>Gujarat Titans</td>\n",
       "      <td>Rajasthan Royals</td>\n",
       "      <td>Ahmedabad</td>\n",
       "      <td>131</td>\n",
       "      <td>124</td>\n",
       "      <td>10</td>\n",
       "      <td>131</td>\n",
       "      <td>-0.0</td>\n",
       "      <td>6.34</td>\n",
       "      <td>1</td>\n",
       "    </tr>\n",
       "    <tr>\n",
       "      <th>2</th>\n",
       "      <td>2</td>\n",
       "      <td>Gujarat Titans</td>\n",
       "      <td>Rajasthan Royals</td>\n",
       "      <td>Ahmedabad</td>\n",
       "      <td>126</td>\n",
       "      <td>119</td>\n",
       "      <td>10</td>\n",
       "      <td>131</td>\n",
       "      <td>30.0</td>\n",
       "      <td>6.35</td>\n",
       "      <td>1</td>\n",
       "    </tr>\n",
       "    <tr>\n",
       "      <th>3</th>\n",
       "      <td>3</td>\n",
       "      <td>Gujarat Titans</td>\n",
       "      <td>Rajasthan Royals</td>\n",
       "      <td>Ahmedabad</td>\n",
       "      <td>122</td>\n",
       "      <td>118</td>\n",
       "      <td>10</td>\n",
       "      <td>131</td>\n",
       "      <td>27.0</td>\n",
       "      <td>6.20</td>\n",
       "      <td>1</td>\n",
       "    </tr>\n",
       "    <tr>\n",
       "      <th>4</th>\n",
       "      <td>4</td>\n",
       "      <td>Gujarat Titans</td>\n",
       "      <td>Rajasthan Royals</td>\n",
       "      <td>Ahmedabad</td>\n",
       "      <td>122</td>\n",
       "      <td>117</td>\n",
       "      <td>10</td>\n",
       "      <td>131</td>\n",
       "      <td>18.0</td>\n",
       "      <td>6.26</td>\n",
       "      <td>1</td>\n",
       "    </tr>\n",
       "  </tbody>\n",
       "</table>\n",
       "</div>"
      ],
      "text/plain": [
       "   id    batting_team      bowling_team       city  runs_left  balls_left  \\\n",
       "0   0  Gujarat Titans  Rajasthan Royals  Ahmedabad        131         125   \n",
       "1   1  Gujarat Titans  Rajasthan Royals  Ahmedabad        131         124   \n",
       "2   2  Gujarat Titans  Rajasthan Royals  Ahmedabad        126         119   \n",
       "3   3  Gujarat Titans  Rajasthan Royals  Ahmedabad        122         118   \n",
       "4   4  Gujarat Titans  Rajasthan Royals  Ahmedabad        122         117   \n",
       "\n",
       "   wickets_remaining  total_run_x   crr   rrr  results  \n",
       "0                 10          131  -0.0  6.29        1  \n",
       "1                 10          131  -0.0  6.34        1  \n",
       "2                 10          131  30.0  6.35        1  \n",
       "3                 10          131  27.0  6.20        1  \n",
       "4                 10          131  18.0  6.26        1  "
      ]
     },
     "execution_count": 2,
     "metadata": {},
     "output_type": "execute_result"
    }
   ],
   "source": [
    "matches = pd.read_csv('ipl_2008_2023.csv')\n",
    "matches.head()"
   ]
  },
  {
   "cell_type": "code",
   "execution_count": 3,
   "metadata": {},
   "outputs": [
    {
     "data": {
      "text/plain": [
       "(106604, 11)"
      ]
     },
     "execution_count": 3,
     "metadata": {},
     "output_type": "execute_result"
    }
   ],
   "source": [
    "matches.shape"
   ]
  },
  {
   "cell_type": "code",
   "execution_count": 4,
   "metadata": {},
   "outputs": [
    {
     "name": "stdout",
     "output_type": "stream",
     "text": [
      "<class 'pandas.core.frame.DataFrame'>\n",
      "RangeIndex: 106604 entries, 0 to 106603\n",
      "Data columns (total 11 columns):\n",
      " #   Column             Non-Null Count   Dtype  \n",
      "---  ------             --------------   -----  \n",
      " 0   id                 106604 non-null  int64  \n",
      " 1   batting_team       106604 non-null  object \n",
      " 2   bowling_team       106604 non-null  object \n",
      " 3   city               106604 non-null  object \n",
      " 4   runs_left          106604 non-null  int64  \n",
      " 5   balls_left         106604 non-null  int64  \n",
      " 6   wickets_remaining  106604 non-null  int64  \n",
      " 7   total_run_x        106604 non-null  int64  \n",
      " 8   crr                106604 non-null  float64\n",
      " 9   rrr                106604 non-null  float64\n",
      " 10  results            106604 non-null  int64  \n",
      "dtypes: float64(2), int64(6), object(3)\n",
      "memory usage: 8.9+ MB\n"
     ]
    }
   ],
   "source": [
    "matches.info()"
   ]
  },
  {
   "cell_type": "markdown",
   "metadata": {},
   "source": [
    "Data Preprocessing"
   ]
  },
  {
   "cell_type": "code",
   "execution_count": 5,
   "metadata": {},
   "outputs": [
    {
     "data": {
      "text/plain": [
       "id                   0\n",
       "batting_team         0\n",
       "bowling_team         0\n",
       "city                 0\n",
       "runs_left            0\n",
       "balls_left           0\n",
       "wickets_remaining    0\n",
       "total_run_x          0\n",
       "crr                  0\n",
       "rrr                  0\n",
       "results              0\n",
       "dtype: int64"
      ]
     },
     "execution_count": 5,
     "metadata": {},
     "output_type": "execute_result"
    }
   ],
   "source": [
    "matches.isnull().sum()"
   ]
  },
  {
   "cell_type": "code",
   "execution_count": 6,
   "metadata": {},
   "outputs": [
    {
     "data": {
      "text/html": [
       "<div>\n",
       "<style scoped>\n",
       "    .dataframe tbody tr th:only-of-type {\n",
       "        vertical-align: middle;\n",
       "    }\n",
       "\n",
       "    .dataframe tbody tr th {\n",
       "        vertical-align: top;\n",
       "    }\n",
       "\n",
       "    .dataframe thead th {\n",
       "        text-align: right;\n",
       "    }\n",
       "</style>\n",
       "<table border=\"1\" class=\"dataframe\">\n",
       "  <thead>\n",
       "    <tr style=\"text-align: right;\">\n",
       "      <th></th>\n",
       "      <th>id</th>\n",
       "      <th>runs_left</th>\n",
       "      <th>balls_left</th>\n",
       "      <th>wickets_remaining</th>\n",
       "      <th>total_run_x</th>\n",
       "      <th>crr</th>\n",
       "      <th>rrr</th>\n",
       "      <th>results</th>\n",
       "    </tr>\n",
       "  </thead>\n",
       "  <tbody>\n",
       "    <tr>\n",
       "      <th>count</th>\n",
       "      <td>106604.000000</td>\n",
       "      <td>106604.000000</td>\n",
       "      <td>106604.000000</td>\n",
       "      <td>106604.000000</td>\n",
       "      <td>106604.000000</td>\n",
       "      <td>106604.000000</td>\n",
       "      <td>106604.000000</td>\n",
       "      <td>106604.000000</td>\n",
       "    </tr>\n",
       "    <tr>\n",
       "      <th>mean</th>\n",
       "      <td>53301.500000</td>\n",
       "      <td>90.539032</td>\n",
       "      <td>66.654497</td>\n",
       "      <td>7.428511</td>\n",
       "      <td>166.862397</td>\n",
       "      <td>9.654382</td>\n",
       "      <td>8.572438</td>\n",
       "      <td>0.433042</td>\n",
       "    </tr>\n",
       "    <tr>\n",
       "      <th>std</th>\n",
       "      <td>30774.068386</td>\n",
       "      <td>48.536013</td>\n",
       "      <td>32.164333</td>\n",
       "      <td>2.139389</td>\n",
       "      <td>29.410008</td>\n",
       "      <td>5.944946</td>\n",
       "      <td>4.426402</td>\n",
       "      <td>0.495499</td>\n",
       "    </tr>\n",
       "    <tr>\n",
       "      <th>min</th>\n",
       "      <td>0.000000</td>\n",
       "      <td>0.000000</td>\n",
       "      <td>4.000000</td>\n",
       "      <td>0.000000</td>\n",
       "      <td>63.000000</td>\n",
       "      <td>-0.000000</td>\n",
       "      <td>0.000000</td>\n",
       "      <td>0.000000</td>\n",
       "    </tr>\n",
       "    <tr>\n",
       "      <th>25%</th>\n",
       "      <td>26650.750000</td>\n",
       "      <td>52.000000</td>\n",
       "      <td>40.000000</td>\n",
       "      <td>6.000000</td>\n",
       "      <td>148.000000</td>\n",
       "      <td>7.380000</td>\n",
       "      <td>6.480000</td>\n",
       "      <td>0.000000</td>\n",
       "    </tr>\n",
       "    <tr>\n",
       "      <th>50%</th>\n",
       "      <td>53301.500000</td>\n",
       "      <td>89.000000</td>\n",
       "      <td>67.000000</td>\n",
       "      <td>8.000000</td>\n",
       "      <td>166.000000</td>\n",
       "      <td>8.680000</td>\n",
       "      <td>8.140000</td>\n",
       "      <td>0.000000</td>\n",
       "    </tr>\n",
       "    <tr>\n",
       "      <th>75%</th>\n",
       "      <td>79952.250000</td>\n",
       "      <td>126.000000</td>\n",
       "      <td>94.000000</td>\n",
       "      <td>9.000000</td>\n",
       "      <td>186.000000</td>\n",
       "      <td>10.310000</td>\n",
       "      <td>9.860000</td>\n",
       "      <td>1.000000</td>\n",
       "    </tr>\n",
       "    <tr>\n",
       "      <th>max</th>\n",
       "      <td>106603.000000</td>\n",
       "      <td>264.000000</td>\n",
       "      <td>125.000000</td>\n",
       "      <td>10.000000</td>\n",
       "      <td>264.000000</td>\n",
       "      <td>162.000000</td>\n",
       "      <td>131.000000</td>\n",
       "      <td>1.000000</td>\n",
       "    </tr>\n",
       "  </tbody>\n",
       "</table>\n",
       "</div>"
      ],
      "text/plain": [
       "                  id      runs_left     balls_left  wickets_remaining  \\\n",
       "count  106604.000000  106604.000000  106604.000000      106604.000000   \n",
       "mean    53301.500000      90.539032      66.654497           7.428511   \n",
       "std     30774.068386      48.536013      32.164333           2.139389   \n",
       "min         0.000000       0.000000       4.000000           0.000000   \n",
       "25%     26650.750000      52.000000      40.000000           6.000000   \n",
       "50%     53301.500000      89.000000      67.000000           8.000000   \n",
       "75%     79952.250000     126.000000      94.000000           9.000000   \n",
       "max    106603.000000     264.000000     125.000000          10.000000   \n",
       "\n",
       "         total_run_x            crr            rrr        results  \n",
       "count  106604.000000  106604.000000  106604.000000  106604.000000  \n",
       "mean      166.862397       9.654382       8.572438       0.433042  \n",
       "std        29.410008       5.944946       4.426402       0.495499  \n",
       "min        63.000000      -0.000000       0.000000       0.000000  \n",
       "25%       148.000000       7.380000       6.480000       0.000000  \n",
       "50%       166.000000       8.680000       8.140000       0.000000  \n",
       "75%       186.000000      10.310000       9.860000       1.000000  \n",
       "max       264.000000     162.000000     131.000000       1.000000  "
      ]
     },
     "execution_count": 6,
     "metadata": {},
     "output_type": "execute_result"
    }
   ],
   "source": [
    "matches.describe()"
   ]
  },
  {
   "cell_type": "code",
   "execution_count": 7,
   "metadata": {},
   "outputs": [
    {
     "data": {
      "text/plain": [
       "batting_team\n",
       "Delhi Capitals                 13721\n",
       "Kolkata Knight Riders          13417\n",
       "Mumbai Indians                 12574\n",
       "Royal Challengers Bangalore    12126\n",
       "Sunrisers Hyderabad            11825\n",
       "Punjab Kings                   11033\n",
       "Rajasthan Royals               10943\n",
       "Chennai Super Kings            10301\n",
       "Pune Warriors                   2883\n",
       "Gujarat Titans                  2058\n",
       "Gujarat Lions                   1754\n",
       "Lucknow Super Giants            1735\n",
       "Rising Pune Supergiant           861\n",
       "Rising Pune Supergiants          699\n",
       "Kochi Tuskers Kerala             674\n",
       "Name: count, dtype: int64"
      ]
     },
     "execution_count": 7,
     "metadata": {},
     "output_type": "execute_result"
    }
   ],
   "source": [
    "matches.batting_team.value_counts()"
   ]
  },
  {
   "cell_type": "code",
   "execution_count": 8,
   "metadata": {},
   "outputs": [
    {
     "data": {
      "text/plain": [
       "bowling_team\n",
       "Punjab Kings                   15676\n",
       "Sunrisers Hyderabad            13620\n",
       "Delhi Capitals                 13438\n",
       "Mumbai Indians                 12429\n",
       "Chennai Super Kings            12337\n",
       "Royal Challengers Bangalore    11544\n",
       "Kolkata Knight Riders           9697\n",
       "Rajasthan Royals                9259\n",
       "Pune Warriors                   1879\n",
       "Lucknow Super Giants            1658\n",
       "Gujarat Titans                  1656\n",
       "Gujarat Lions                   1274\n",
       "Rising Pune Supergiant           807\n",
       "Kochi Tuskers Kerala             733\n",
       "Rising Pune Supergiants          597\n",
       "Name: count, dtype: int64"
      ]
     },
     "execution_count": 8,
     "metadata": {},
     "output_type": "execute_result"
    }
   ],
   "source": [
    "matches.bowling_team.value_counts()"
   ]
  },
  {
   "cell_type": "code",
   "execution_count": 9,
   "metadata": {},
   "outputs": [],
   "source": [
    "# replace duplicates of team names\n",
    "matches.batting_team = matches.batting_team.str.replace('Gujarat Lions','Gujarat Titans')\n",
    "matches.bowling_team = matches.bowling_team.str.replace('Gujarat Lions','Gujarat Titans')\n",
    "\n",
    "matches.batting_team = matches.batting_team.str.replace('Rising Pune Supergiant','Pune Warriors')\n",
    "matches.bowling_team = matches.bowling_team.str.replace('Rising Pune Supergiant','Pune Warriors')\n",
    "\n",
    "matches.batting_team = matches.batting_team.str.replace('Rising Pune Supergiants','Pune Warriors')\n",
    "matches.bowling_team = matches.bowling_team.str.replace('Rising Pune Supergiants','Pune Warriors')\n",
    "\n",
    "matches.batting_team = matches.batting_team.str.replace('Pune Warriorss','Pune Warriors')\n",
    "matches.bowling_team = matches.bowling_team.str.replace('Pune Warriorss','Pune Warriors')\n",
    "\n"
   ]
  },
  {
   "cell_type": "code",
   "execution_count": 10,
   "metadata": {},
   "outputs": [
    {
     "data": {
      "text/plain": [
       "batting_team\n",
       "Delhi Capitals                 13721\n",
       "Kolkata Knight Riders          13417\n",
       "Mumbai Indians                 12574\n",
       "Royal Challengers Bangalore    12126\n",
       "Sunrisers Hyderabad            11825\n",
       "Punjab Kings                   11033\n",
       "Rajasthan Royals               10943\n",
       "Chennai Super Kings            10301\n",
       "Pune Warriors                   4443\n",
       "Gujarat Titans                  3812\n",
       "Lucknow Super Giants            1735\n",
       "Kochi Tuskers Kerala             674\n",
       "Name: count, dtype: int64"
      ]
     },
     "execution_count": 10,
     "metadata": {},
     "output_type": "execute_result"
    }
   ],
   "source": [
    "matches.batting_team.value_counts()"
   ]
  },
  {
   "cell_type": "code",
   "execution_count": 11,
   "metadata": {},
   "outputs": [
    {
     "data": {
      "text/plain": [
       "bowling_team\n",
       "Punjab Kings                   15676\n",
       "Sunrisers Hyderabad            13620\n",
       "Delhi Capitals                 13438\n",
       "Mumbai Indians                 12429\n",
       "Chennai Super Kings            12337\n",
       "Royal Challengers Bangalore    11544\n",
       "Kolkata Knight Riders           9697\n",
       "Rajasthan Royals                9259\n",
       "Pune Warriors                   3283\n",
       "Gujarat Titans                  2930\n",
       "Lucknow Super Giants            1658\n",
       "Kochi Tuskers Kerala             733\n",
       "Name: count, dtype: int64"
      ]
     },
     "execution_count": 11,
     "metadata": {},
     "output_type": "execute_result"
    }
   ],
   "source": [
    "matches.bowling_team.value_counts()"
   ]
  },
  {
   "cell_type": "code",
   "execution_count": 12,
   "metadata": {},
   "outputs": [
    {
     "data": {
      "text/plain": [
       "array(['Gujarat Titans', 'Rajasthan Royals', 'Lucknow Super Giants',\n",
       "       'Punjab Kings', 'Mumbai Indians', 'Royal Challengers Bangalore',\n",
       "       'Kolkata Knight Riders', 'Sunrisers Hyderabad', 'Delhi Capitals',\n",
       "       'Chennai Super Kings', 'Pune Warriors', 'Kochi Tuskers Kerala'],\n",
       "      dtype=object)"
      ]
     },
     "execution_count": 12,
     "metadata": {},
     "output_type": "execute_result"
    }
   ],
   "source": [
    "matches.batting_team.unique()"
   ]
  },
  {
   "cell_type": "code",
   "execution_count": 13,
   "metadata": {},
   "outputs": [],
   "source": [
    "teams = ['Gujarat Titans', 'Rajasthan Royals', 'Lucknow Super Giants',\n",
    "       'Punjab Kings', 'Mumbai Indians', 'Royal Challengers Bangalore',\n",
    "       'Kolkata Knight Riders', 'Sunrisers Hyderabad', 'Delhi Capitals',\n",
    "       'Chennai Super Kings', 'Pune Warriors', 'Kochi Tuskers Kerala']"
   ]
  },
  {
   "cell_type": "code",
   "execution_count": 14,
   "metadata": {},
   "outputs": [
    {
     "data": {
      "text/html": [
       "<div>\n",
       "<style scoped>\n",
       "    .dataframe tbody tr th:only-of-type {\n",
       "        vertical-align: middle;\n",
       "    }\n",
       "\n",
       "    .dataframe tbody tr th {\n",
       "        vertical-align: top;\n",
       "    }\n",
       "\n",
       "    .dataframe thead th {\n",
       "        text-align: right;\n",
       "    }\n",
       "</style>\n",
       "<table border=\"1\" class=\"dataframe\">\n",
       "  <thead>\n",
       "    <tr style=\"text-align: right;\">\n",
       "      <th></th>\n",
       "      <th>id</th>\n",
       "      <th>batting_team</th>\n",
       "      <th>bowling_team</th>\n",
       "      <th>city</th>\n",
       "      <th>runs_left</th>\n",
       "      <th>balls_left</th>\n",
       "      <th>wickets_remaining</th>\n",
       "      <th>total_run_x</th>\n",
       "      <th>crr</th>\n",
       "      <th>rrr</th>\n",
       "      <th>results</th>\n",
       "    </tr>\n",
       "  </thead>\n",
       "  <tbody>\n",
       "    <tr>\n",
       "      <th>0</th>\n",
       "      <td>0</td>\n",
       "      <td>Gujarat Titans</td>\n",
       "      <td>Rajasthan Royals</td>\n",
       "      <td>Ahmedabad</td>\n",
       "      <td>131</td>\n",
       "      <td>125</td>\n",
       "      <td>10</td>\n",
       "      <td>131</td>\n",
       "      <td>-0.0</td>\n",
       "      <td>6.29</td>\n",
       "      <td>1</td>\n",
       "    </tr>\n",
       "    <tr>\n",
       "      <th>1</th>\n",
       "      <td>1</td>\n",
       "      <td>Gujarat Titans</td>\n",
       "      <td>Rajasthan Royals</td>\n",
       "      <td>Ahmedabad</td>\n",
       "      <td>131</td>\n",
       "      <td>124</td>\n",
       "      <td>10</td>\n",
       "      <td>131</td>\n",
       "      <td>-0.0</td>\n",
       "      <td>6.34</td>\n",
       "      <td>1</td>\n",
       "    </tr>\n",
       "    <tr>\n",
       "      <th>2</th>\n",
       "      <td>2</td>\n",
       "      <td>Gujarat Titans</td>\n",
       "      <td>Rajasthan Royals</td>\n",
       "      <td>Ahmedabad</td>\n",
       "      <td>126</td>\n",
       "      <td>119</td>\n",
       "      <td>10</td>\n",
       "      <td>131</td>\n",
       "      <td>30.0</td>\n",
       "      <td>6.35</td>\n",
       "      <td>1</td>\n",
       "    </tr>\n",
       "    <tr>\n",
       "      <th>3</th>\n",
       "      <td>3</td>\n",
       "      <td>Gujarat Titans</td>\n",
       "      <td>Rajasthan Royals</td>\n",
       "      <td>Ahmedabad</td>\n",
       "      <td>122</td>\n",
       "      <td>118</td>\n",
       "      <td>10</td>\n",
       "      <td>131</td>\n",
       "      <td>27.0</td>\n",
       "      <td>6.20</td>\n",
       "      <td>1</td>\n",
       "    </tr>\n",
       "    <tr>\n",
       "      <th>4</th>\n",
       "      <td>4</td>\n",
       "      <td>Gujarat Titans</td>\n",
       "      <td>Rajasthan Royals</td>\n",
       "      <td>Ahmedabad</td>\n",
       "      <td>122</td>\n",
       "      <td>117</td>\n",
       "      <td>10</td>\n",
       "      <td>131</td>\n",
       "      <td>18.0</td>\n",
       "      <td>6.26</td>\n",
       "      <td>1</td>\n",
       "    </tr>\n",
       "  </tbody>\n",
       "</table>\n",
       "</div>"
      ],
      "text/plain": [
       "   id    batting_team      bowling_team       city  runs_left  balls_left  \\\n",
       "0   0  Gujarat Titans  Rajasthan Royals  Ahmedabad        131         125   \n",
       "1   1  Gujarat Titans  Rajasthan Royals  Ahmedabad        131         124   \n",
       "2   2  Gujarat Titans  Rajasthan Royals  Ahmedabad        126         119   \n",
       "3   3  Gujarat Titans  Rajasthan Royals  Ahmedabad        122         118   \n",
       "4   4  Gujarat Titans  Rajasthan Royals  Ahmedabad        122         117   \n",
       "\n",
       "   wickets_remaining  total_run_x   crr   rrr  results  \n",
       "0                 10          131  -0.0  6.29        1  \n",
       "1                 10          131  -0.0  6.34        1  \n",
       "2                 10          131  30.0  6.35        1  \n",
       "3                 10          131  27.0  6.20        1  \n",
       "4                 10          131  18.0  6.26        1  "
      ]
     },
     "execution_count": 14,
     "metadata": {},
     "output_type": "execute_result"
    }
   ],
   "source": [
    "matches.head()"
   ]
  },
  {
   "cell_type": "code",
   "execution_count": 15,
   "metadata": {},
   "outputs": [
    {
     "data": {
      "text/html": [
       "<div>\n",
       "<style scoped>\n",
       "    .dataframe tbody tr th:only-of-type {\n",
       "        vertical-align: middle;\n",
       "    }\n",
       "\n",
       "    .dataframe tbody tr th {\n",
       "        vertical-align: top;\n",
       "    }\n",
       "\n",
       "    .dataframe thead th {\n",
       "        text-align: right;\n",
       "    }\n",
       "</style>\n",
       "<table border=\"1\" class=\"dataframe\">\n",
       "  <thead>\n",
       "    <tr style=\"text-align: right;\">\n",
       "      <th></th>\n",
       "      <th>batting_team</th>\n",
       "      <th>bowling_team</th>\n",
       "      <th>runs_left</th>\n",
       "      <th>balls_left</th>\n",
       "      <th>wickets_remaining</th>\n",
       "      <th>total_run_x</th>\n",
       "      <th>results</th>\n",
       "    </tr>\n",
       "  </thead>\n",
       "  <tbody>\n",
       "    <tr>\n",
       "      <th>0</th>\n",
       "      <td>Gujarat Titans</td>\n",
       "      <td>Rajasthan Royals</td>\n",
       "      <td>131</td>\n",
       "      <td>125</td>\n",
       "      <td>10</td>\n",
       "      <td>131</td>\n",
       "      <td>1</td>\n",
       "    </tr>\n",
       "    <tr>\n",
       "      <th>1</th>\n",
       "      <td>Gujarat Titans</td>\n",
       "      <td>Rajasthan Royals</td>\n",
       "      <td>131</td>\n",
       "      <td>124</td>\n",
       "      <td>10</td>\n",
       "      <td>131</td>\n",
       "      <td>1</td>\n",
       "    </tr>\n",
       "    <tr>\n",
       "      <th>2</th>\n",
       "      <td>Gujarat Titans</td>\n",
       "      <td>Rajasthan Royals</td>\n",
       "      <td>126</td>\n",
       "      <td>119</td>\n",
       "      <td>10</td>\n",
       "      <td>131</td>\n",
       "      <td>1</td>\n",
       "    </tr>\n",
       "    <tr>\n",
       "      <th>3</th>\n",
       "      <td>Gujarat Titans</td>\n",
       "      <td>Rajasthan Royals</td>\n",
       "      <td>122</td>\n",
       "      <td>118</td>\n",
       "      <td>10</td>\n",
       "      <td>131</td>\n",
       "      <td>1</td>\n",
       "    </tr>\n",
       "    <tr>\n",
       "      <th>4</th>\n",
       "      <td>Gujarat Titans</td>\n",
       "      <td>Rajasthan Royals</td>\n",
       "      <td>122</td>\n",
       "      <td>117</td>\n",
       "      <td>10</td>\n",
       "      <td>131</td>\n",
       "      <td>1</td>\n",
       "    </tr>\n",
       "  </tbody>\n",
       "</table>\n",
       "</div>"
      ],
      "text/plain": [
       "     batting_team      bowling_team  runs_left  balls_left  wickets_remaining  \\\n",
       "0  Gujarat Titans  Rajasthan Royals        131         125                 10   \n",
       "1  Gujarat Titans  Rajasthan Royals        131         124                 10   \n",
       "2  Gujarat Titans  Rajasthan Royals        126         119                 10   \n",
       "3  Gujarat Titans  Rajasthan Royals        122         118                 10   \n",
       "4  Gujarat Titans  Rajasthan Royals        122         117                 10   \n",
       "\n",
       "   total_run_x  results  \n",
       "0          131        1  \n",
       "1          131        1  \n",
       "2          131        1  \n",
       "3          131        1  \n",
       "4          131        1  "
      ]
     },
     "execution_count": 15,
     "metadata": {},
     "output_type": "execute_result"
    }
   ],
   "source": [
    "#remove unwanted coloumns\n",
    "unwanted = ['city', 'crr', 'rrr','id']\n",
    "matches.drop(unwanted, axis=1, inplace=True)\n",
    "matches.head()"
   ]
  },
  {
   "cell_type": "code",
   "execution_count": 16,
   "metadata": {},
   "outputs": [
    {
     "data": {
      "text/plain": [
       "array(['Gujarat Titans', 'Rajasthan Royals', 'Lucknow Super Giants',\n",
       "       'Punjab Kings', 'Mumbai Indians', 'Royal Challengers Bangalore',\n",
       "       'Kolkata Knight Riders', 'Sunrisers Hyderabad', 'Delhi Capitals',\n",
       "       'Chennai Super Kings', 'Pune Warriors', 'Kochi Tuskers Kerala'],\n",
       "      dtype=object)"
      ]
     },
     "execution_count": 16,
     "metadata": {},
     "output_type": "execute_result"
    }
   ],
   "source": [
    "matches.batting_team.unique()"
   ]
  },
  {
   "cell_type": "markdown",
   "metadata": {},
   "source": [
    "Data Visuaization"
   ]
  },
  {
   "cell_type": "code",
   "execution_count": 17,
   "metadata": {},
   "outputs": [
    {
     "data": {
      "image/png": "[encoded data removed]",
      "text/plain": [
       "<Figure size 1000x600 with 1 Axes>"
      ]
     },
     "metadata": {},
     "output_type": "display_data"
    }
   ],
   "source": [
    "# Bar chart for comparing runs scored by different teams\n",
    "plt.figure(figsize=(10, 6))\n",
    "sns.barplot(x='batting_team', y='runs_left', data=matches)\n",
    "plt.title('Runs Left by Batting Team')\n",
    "plt.xlabel('Batting Team')\n",
    "plt.ylabel('Runs Left')\n",
    "plt.xticks(rotation=90)\n",
    "plt.show()"
   ]
  },
  {
   "cell_type": "code",
   "execution_count": 18,
   "metadata": {},
   "outputs": [
    {
     "data": {
      "image/png": "[encoded data removed]",
      "text/plain": [
       "<Figure size 800x800 with 1 Axes>"
      ]
     },
     "metadata": {},
     "output_type": "display_data"
    }
   ],
   "source": [
    "# Pie chart for showing the distribution of outcomes\n",
    "plt.figure(figsize=(8, 8))\n",
    "matches['results'].value_counts().plot(kind='pie', autopct='%1.1f%%')\n",
    "plt.title('Outcome Distribution')\n",
    "plt.ylabel('')\n",
    "plt.show()"
   ]
  },
  {
   "cell_type": "code",
   "execution_count": 19,
   "metadata": {},
   "outputs": [
    {
     "name": "stderr",
     "output_type": "stream",
     "text": [
      "C:\\Users\\MUHAMMED HASHIM\\AppData\\Local\\Temp\\ipykernel_21460\\3009345279.py:4: FutureWarning: Downcasting behavior in `replace` is deprecated and will be removed in a future version. To retain the old behavior, explicitly call `result.infer_objects(copy=False)`. To opt-in to the future behavior, set `pd.set_option('future.no_silent_downcasting', True)`\n",
      "  matches.replace({'batting_team':{'Gujarat Titans': 12, 'Rajasthan Royals':1, 'Lucknow Super Giants':2,'Punjab Kings': 3, 'Mumbai Indians':4, 'Royal Challengers Bangalore':5,'Kolkata Knight Riders': 6, 'Sunrisers Hyderabad':7, 'Delhi Capitals':8,'Chennai Super Kings':9, 'Pune Warriors':10, 'Kochi Tuskers Kerala':11}},inplace=True)\n",
      "C:\\Users\\MUHAMMED HASHIM\\AppData\\Local\\Temp\\ipykernel_21460\\3009345279.py:6: FutureWarning: Downcasting behavior in `replace` is deprecated and will be removed in a future version. To retain the old behavior, explicitly call `result.infer_objects(copy=False)`. To opt-in to the future behavior, set `pd.set_option('future.no_silent_downcasting', True)`\n",
      "  matches.replace({'bowling_team':{'Gujarat Titans': 12, 'Rajasthan Royals':1, 'Lucknow Super Giants':2,'Punjab Kings': 3, 'Mumbai Indians':4, 'Royal Challengers Bangalore':5,'Kolkata Knight Riders': 6, 'Sunrisers Hyderabad':7, 'Delhi Capitals':8,'Chennai Super Kings':9, 'Pune Warriors':10, 'Kochi Tuskers Kerala':11}},inplace=True)\n"
     ]
    }
   ],
   "source": [
    "#encode the chategorical data\n",
    "\n",
    "#encoding the batting team column\n",
    "matches.replace({'batting_team':{'Gujarat Titans': 12, 'Rajasthan Royals':1, 'Lucknow Super Giants':2,'Punjab Kings': 3, 'Mumbai Indians':4, 'Royal Challengers Bangalore':5,'Kolkata Knight Riders': 6, 'Sunrisers Hyderabad':7, 'Delhi Capitals':8,'Chennai Super Kings':9, 'Pune Warriors':10, 'Kochi Tuskers Kerala':11}},inplace=True)\n",
    "#encoding the bowling team column\n",
    "matches.replace({'bowling_team':{'Gujarat Titans': 12, 'Rajasthan Royals':1, 'Lucknow Super Giants':2,'Punjab Kings': 3, 'Mumbai Indians':4, 'Royal Challengers Bangalore':5,'Kolkata Knight Riders': 6, 'Sunrisers Hyderabad':7, 'Delhi Capitals':8,'Chennai Super Kings':9, 'Pune Warriors':10, 'Kochi Tuskers Kerala':11}},inplace=True)"
   ]
  },
  {
   "cell_type": "code",
   "execution_count": 20,
   "metadata": {},
   "outputs": [
    {
     "data": {
      "image/png": "[encoded data removed]",
      "text/plain": [
       "<Figure size 1000x800 with 2 Axes>"
      ]
     },
     "metadata": {},
     "output_type": "display_data"
    }
   ],
   "source": [
    "# Compute the correlation matrix\n",
    "correlation_matrix = matches.corr()\n",
    "\n",
    "# Generate a heatmap\n",
    "plt.figure(figsize=(10, 8))\n",
    "sns.heatmap(correlation_matrix, annot=True, cmap='coolwarm', fmt=\".2f\")\n",
    "plt.title('Correlation Heatmap')\n",
    "plt.show()"
   ]
  },
  {
   "cell_type": "code",
   "execution_count": 21,
   "metadata": {},
   "outputs": [],
   "source": [
    "#splitting data and target\n",
    "X = matches.drop(columns=['results'])\n",
    "Y = matches.results\n"
   ]
  },
  {
   "cell_type": "code",
   "execution_count": 22,
   "metadata": {},
   "outputs": [
    {
     "data": {
      "text/html": [
       "<div>\n",
       "<style scoped>\n",
       "    .dataframe tbody tr th:only-of-type {\n",
       "        vertical-align: middle;\n",
       "    }\n",
       "\n",
       "    .dataframe tbody tr th {\n",
       "        vertical-align: top;\n",
       "    }\n",
       "\n",
       "    .dataframe thead th {\n",
       "        text-align: right;\n",
       "    }\n",
       "</style>\n",
       "<table border=\"1\" class=\"dataframe\">\n",
       "  <thead>\n",
       "    <tr style=\"text-align: right;\">\n",
       "      <th></th>\n",
       "      <th>batting_team</th>\n",
       "      <th>bowling_team</th>\n",
       "      <th>runs_left</th>\n",
       "      <th>balls_left</th>\n",
       "      <th>wickets_remaining</th>\n",
       "      <th>total_run_x</th>\n",
       "    </tr>\n",
       "  </thead>\n",
       "  <tbody>\n",
       "    <tr>\n",
       "      <th>0</th>\n",
       "      <td>12</td>\n",
       "      <td>1</td>\n",
       "      <td>131</td>\n",
       "      <td>125</td>\n",
       "      <td>10</td>\n",
       "      <td>131</td>\n",
       "    </tr>\n",
       "    <tr>\n",
       "      <th>1</th>\n",
       "      <td>12</td>\n",
       "      <td>1</td>\n",
       "      <td>131</td>\n",
       "      <td>124</td>\n",
       "      <td>10</td>\n",
       "      <td>131</td>\n",
       "    </tr>\n",
       "    <tr>\n",
       "      <th>2</th>\n",
       "      <td>12</td>\n",
       "      <td>1</td>\n",
       "      <td>126</td>\n",
       "      <td>119</td>\n",
       "      <td>10</td>\n",
       "      <td>131</td>\n",
       "    </tr>\n",
       "    <tr>\n",
       "      <th>3</th>\n",
       "      <td>12</td>\n",
       "      <td>1</td>\n",
       "      <td>122</td>\n",
       "      <td>118</td>\n",
       "      <td>10</td>\n",
       "      <td>131</td>\n",
       "    </tr>\n",
       "    <tr>\n",
       "      <th>4</th>\n",
       "      <td>12</td>\n",
       "      <td>1</td>\n",
       "      <td>122</td>\n",
       "      <td>117</td>\n",
       "      <td>10</td>\n",
       "      <td>131</td>\n",
       "    </tr>\n",
       "  </tbody>\n",
       "</table>\n",
       "</div>"
      ],
      "text/plain": [
       "   batting_team  bowling_team  runs_left  balls_left  wickets_remaining  \\\n",
       "0            12             1        131         125                 10   \n",
       "1            12             1        131         124                 10   \n",
       "2            12             1        126         119                 10   \n",
       "3            12             1        122         118                 10   \n",
       "4            12             1        122         117                 10   \n",
       "\n",
       "   total_run_x  \n",
       "0          131  \n",
       "1          131  \n",
       "2          131  \n",
       "3          131  \n",
       "4          131  "
      ]
     },
     "execution_count": 22,
     "metadata": {},
     "output_type": "execute_result"
    }
   ],
   "source": [
    "X.head()"
   ]
  },
  {
   "cell_type": "code",
   "execution_count": 23,
   "metadata": {},
   "outputs": [
    {
     "data": {
      "text/plain": [
       "0    1\n",
       "1    1\n",
       "2    1\n",
       "3    1\n",
       "4    1\n",
       "Name: results, dtype: int64"
      ]
     },
     "execution_count": 23,
     "metadata": {},
     "output_type": "execute_result"
    }
   ],
   "source": [
    "Y.head()"
   ]
  },
  {
   "cell_type": "code",
   "execution_count": 24,
   "metadata": {},
   "outputs": [],
   "source": [
    "#splitting X,Y into training and testing.\n",
    "from sklearn.model_selection import train_test_split\n",
    "\n",
    "X_train, X_test, Y_train, Y_test = train_test_split(X,Y,test_size=0.2)"
   ]
  },
  {
   "cell_type": "markdown",
   "metadata": {},
   "source": [
    "Model Building and Evaluation"
   ]
  },
  {
   "cell_type": "code",
   "execution_count": 25,
   "metadata": {},
   "outputs": [
    {
     "name": "stdout",
     "output_type": "stream",
     "text": [
      "Accuracy: 0.7169926363679002\n",
      "\n",
      "Classification Report:\n",
      "              precision    recall  f1-score   support\n",
      "\n",
      "           0       0.75      0.77      0.76     12237\n",
      "           1       0.67      0.65      0.66      9084\n",
      "\n",
      "    accuracy                           0.72     21321\n",
      "   macro avg       0.71      0.71      0.71     21321\n",
      "weighted avg       0.72      0.72      0.72     21321\n",
      "\n"
     ]
    }
   ],
   "source": [
    "#logistic regression\n",
    "\n",
    "from sklearn.linear_model import LogisticRegression\n",
    "from sklearn.metrics import accuracy_score, classification_report, confusion_matrix\n",
    "\n",
    "# Initialize the Logistic Regression model\n",
    "logistic_model = LogisticRegression()\n",
    "\n",
    "# Train the model\n",
    "logistic_model.fit(X_train, Y_train)\n",
    "\n",
    "# Predict on the test set\n",
    "Y_pred = logistic_model.predict(X_test)\n",
    "\n",
    "# Evaluate the model\n",
    "accuracy = accuracy_score(Y_test, Y_pred)\n",
    "print(\"Accuracy:\", accuracy)\n",
    "\n",
    "# Classification Report\n",
    "print(\"\\nClassification Report:\")\n",
    "print(classification_report(Y_test, Y_pred))\n",
    "\n",
    "\n",
    "\n",
    "\n"
   ]
  },
  {
   "cell_type": "code",
   "execution_count": 27,
   "metadata": {},
   "outputs": [
    {
     "name": "stdout",
     "output_type": "stream",
     "text": [
      "\n",
      "Confusion Matrix:\n"
     ]
    },
    {
     "data": {
      "text/plain": [
       "<Axes: >"
      ]
     },
     "execution_count": 27,
     "metadata": {},
     "output_type": "execute_result"
    },
    {
     "data": {
      "image/png": "[encoded data removed]",
      "text/plain": [
       "<Figure size 640x480 with 2 Axes>"
      ]
     },
     "metadata": {},
     "output_type": "display_data"
    }
   ],
   "source": [
    "# Confusion Matrix\n",
    "print(\"\\nConfusion Matrix:\")\n",
    "cf_matrix = confusion_matrix(Y_test, Y_pred)\n",
    "sns.heatmap(cf_matrix, annot=True)"
   ]
  },
  {
   "cell_type": "code",
   "execution_count": 28,
   "metadata": {},
   "outputs": [
    {
     "name": "stdout",
     "output_type": "stream",
     "text": [
      "Accuracy: 0.9866797992589466\n",
      "\n",
      "Classification Report:\n",
      "              precision    recall  f1-score   support\n",
      "\n",
      "           0       0.99      0.99      0.99     12237\n",
      "           1       0.98      0.98      0.98      9084\n",
      "\n",
      "    accuracy                           0.99     21321\n",
      "   macro avg       0.99      0.99      0.99     21321\n",
      "weighted avg       0.99      0.99      0.99     21321\n",
      "\n"
     ]
    }
   ],
   "source": [
    "from sklearn.tree import DecisionTreeClassifier\n",
    "from sklearn.metrics import accuracy_score, classification_report, confusion_matrix\n",
    "\n",
    "# Initialize the Decision Tree classifier\n",
    "decision_tree = DecisionTreeClassifier()\n",
    "\n",
    "# Train the model\n",
    "decision_tree.fit(X_train, Y_train)\n",
    "\n",
    "# Predict on the test set\n",
    "Y_pred = decision_tree.predict(X_test)\n",
    "\n",
    "# Evaluate the model\n",
    "accuracy = accuracy_score(Y_test, Y_pred)\n",
    "print(\"Accuracy:\", accuracy)\n",
    "\n",
    "# Classification Report\n",
    "print(\"\\nClassification Report:\")\n",
    "print(classification_report(Y_test, Y_pred))\n",
    "\n"
   ]
  },
  {
   "cell_type": "code",
   "execution_count": 29,
   "metadata": {},
   "outputs": [
    {
     "name": "stdout",
     "output_type": "stream",
     "text": [
      "\n",
      "Confusion Matrix:\n"
     ]
    },
    {
     "data": {
      "text/plain": [
       "<Axes: >"
      ]
     },
     "execution_count": 29,
     "metadata": {},
     "output_type": "execute_result"
    },
    {
     "data": {
      "image/png": "[encoded data removed]",
      "text/plain": [
       "<Figure size 640x480 with 2 Axes>"
      ]
     },
     "metadata": {},
     "output_type": "display_data"
    }
   ],
   "source": [
    "# Confusion Matrix\n",
    "print(\"\\nConfusion Matrix:\")\n",
    "cf_matrix = confusion_matrix(Y_test, Y_pred)\n",
    "sns.heatmap(cf_matrix, annot=True)"
   ]
  },
  {
   "cell_type": "code",
   "execution_count": 30,
   "metadata": {},
   "outputs": [
    {
     "name": "stdout",
     "output_type": "stream",
     "text": [
      "Accuracy: 0.9955442990478871\n",
      "\n",
      "Classification Report:\n",
      "              precision    recall  f1-score   support\n",
      "\n",
      "           0       1.00      1.00      1.00     12237\n",
      "           1       0.99      0.99      0.99      9084\n",
      "\n",
      "    accuracy                           1.00     21321\n",
      "   macro avg       1.00      1.00      1.00     21321\n",
      "weighted avg       1.00      1.00      1.00     21321\n",
      "\n"
     ]
    }
   ],
   "source": [
    "from sklearn.ensemble import RandomForestClassifier\n",
    "from sklearn.metrics import accuracy_score, classification_report, confusion_matrix\n",
    "\n",
    "# Initialize the Random Forest classifier\n",
    "random_forest = RandomForestClassifier()\n",
    "\n",
    "# Train the model\n",
    "random_forest.fit(X_train, Y_train)\n",
    "\n",
    "# Predict on the test set\n",
    "Y_pred = random_forest.predict(X_test)\n",
    "\n",
    "# Evaluate the model\n",
    "accuracy = accuracy_score(Y_test, Y_pred)\n",
    "print(\"Accuracy:\", accuracy)\n",
    "\n",
    "# Classification Report\n",
    "print(\"\\nClassification Report:\")\n",
    "print(classification_report(Y_test, Y_pred))\n",
    "\n"
   ]
  },
  {
   "cell_type": "code",
   "execution_count": 31,
   "metadata": {},
   "outputs": [
    {
     "name": "stdout",
     "output_type": "stream",
     "text": [
      "\n",
      "Confusion Matrix:\n"
     ]
    },
    {
     "data": {
      "text/plain": [
       "<Axes: >"
      ]
     },
     "execution_count": 31,
     "metadata": {},
     "output_type": "execute_result"
    },
    {
     "data": {
      "image/png": "[encoded data removed]",
      "text/plain": [
       "<Figure size 640x480 with 2 Axes>"
      ]
     },
     "metadata": {},
     "output_type": "display_data"
    }
   ],
   "source": [
    "# Confusion Matrix\n",
    "print(\"\\nConfusion Matrix:\")\n",
    "cf_matrix = confusion_matrix(Y_test, Y_pred)\n",
    "sns.heatmap(cf_matrix, annot=True)"
   ]
  },
  {
   "cell_type": "markdown",
   "metadata": {},
   "source": [
    "Model Deployment"
   ]
  },
  {
   "cell_type": "code",
   "execution_count": 32,
   "metadata": {},
   "outputs": [
    {
     "name": "stdout",
     "output_type": "stream",
     "text": [
      "[[12190    47]\n",
      " [   48  9036]]\n"
     ]
    }
   ],
   "source": [
    "print(cf_matrix)"
   ]
  },
  {
   "cell_type": "code",
   "execution_count": 33,
   "metadata": {},
   "outputs": [],
   "source": [
    "import pickle\n",
    "pickle.dump(random_forest,open('./random_forest_model.sav', 'wb'))"
   ]
  },
  {
   "cell_type": "code",
   "execution_count": 34,
   "metadata": {},
   "outputs": [
    {
     "data": {
      "text/html": [
       "<div>\n",
       "<style scoped>\n",
       "    .dataframe tbody tr th:only-of-type {\n",
       "        vertical-align: middle;\n",
       "    }\n",
       "\n",
       "    .dataframe tbody tr th {\n",
       "        vertical-align: top;\n",
       "    }\n",
       "\n",
       "    .dataframe thead th {\n",
       "        text-align: right;\n",
       "    }\n",
       "</style>\n",
       "<table border=\"1\" class=\"dataframe\">\n",
       "  <thead>\n",
       "    <tr style=\"text-align: right;\">\n",
       "      <th></th>\n",
       "      <th>batting_team</th>\n",
       "      <th>bowling_team</th>\n",
       "      <th>runs_left</th>\n",
       "      <th>balls_left</th>\n",
       "      <th>wickets_remaining</th>\n",
       "      <th>total_run_x</th>\n",
       "    </tr>\n",
       "  </thead>\n",
       "  <tbody>\n",
       "    <tr>\n",
       "      <th>102857</th>\n",
       "      <td>8</td>\n",
       "      <td>7</td>\n",
       "      <td>119</td>\n",
       "      <td>84</td>\n",
       "      <td>9</td>\n",
       "      <td>198</td>\n",
       "    </tr>\n",
       "    <tr>\n",
       "      <th>25149</th>\n",
       "      <td>7</td>\n",
       "      <td>5</td>\n",
       "      <td>159</td>\n",
       "      <td>84</td>\n",
       "      <td>9</td>\n",
       "      <td>219</td>\n",
       "    </tr>\n",
       "    <tr>\n",
       "      <th>48654</th>\n",
       "      <td>7</td>\n",
       "      <td>5</td>\n",
       "      <td>85</td>\n",
       "      <td>80</td>\n",
       "      <td>10</td>\n",
       "      <td>167</td>\n",
       "    </tr>\n",
       "    <tr>\n",
       "      <th>85032</th>\n",
       "      <td>6</td>\n",
       "      <td>9</td>\n",
       "      <td>124</td>\n",
       "      <td>91</td>\n",
       "      <td>7</td>\n",
       "      <td>165</td>\n",
       "    </tr>\n",
       "    <tr>\n",
       "      <th>4883</th>\n",
       "      <td>2</td>\n",
       "      <td>5</td>\n",
       "      <td>34</td>\n",
       "      <td>17</td>\n",
       "      <td>4</td>\n",
       "      <td>182</td>\n",
       "    </tr>\n",
       "    <tr>\n",
       "      <th>...</th>\n",
       "      <td>...</td>\n",
       "      <td>...</td>\n",
       "      <td>...</td>\n",
       "      <td>...</td>\n",
       "      <td>...</td>\n",
       "      <td>...</td>\n",
       "    </tr>\n",
       "    <tr>\n",
       "      <th>35396</th>\n",
       "      <td>3</td>\n",
       "      <td>8</td>\n",
       "      <td>91</td>\n",
       "      <td>38</td>\n",
       "      <td>4</td>\n",
       "      <td>189</td>\n",
       "    </tr>\n",
       "    <tr>\n",
       "      <th>78968</th>\n",
       "      <td>5</td>\n",
       "      <td>11</td>\n",
       "      <td>41</td>\n",
       "      <td>32</td>\n",
       "      <td>7</td>\n",
       "      <td>162</td>\n",
       "    </tr>\n",
       "    <tr>\n",
       "      <th>14571</th>\n",
       "      <td>1</td>\n",
       "      <td>3</td>\n",
       "      <td>47</td>\n",
       "      <td>26</td>\n",
       "      <td>5</td>\n",
       "      <td>222</td>\n",
       "    </tr>\n",
       "    <tr>\n",
       "      <th>25725</th>\n",
       "      <td>5</td>\n",
       "      <td>8</td>\n",
       "      <td>153</td>\n",
       "      <td>104</td>\n",
       "      <td>8</td>\n",
       "      <td>182</td>\n",
       "    </tr>\n",
       "    <tr>\n",
       "      <th>99289</th>\n",
       "      <td>5</td>\n",
       "      <td>6</td>\n",
       "      <td>153</td>\n",
       "      <td>86</td>\n",
       "      <td>8</td>\n",
       "      <td>205</td>\n",
       "    </tr>\n",
       "  </tbody>\n",
       "</table>\n",
       "<p>21321 rows × 6 columns</p>\n",
       "</div>"
      ],
      "text/plain": [
       "        batting_team  bowling_team  runs_left  balls_left  wickets_remaining  \\\n",
       "102857             8             7        119          84                  9   \n",
       "25149              7             5        159          84                  9   \n",
       "48654              7             5         85          80                 10   \n",
       "85032              6             9        124          91                  7   \n",
       "4883               2             5         34          17                  4   \n",
       "...              ...           ...        ...         ...                ...   \n",
       "35396              3             8         91          38                  4   \n",
       "78968              5            11         41          32                  7   \n",
       "14571              1             3         47          26                  5   \n",
       "25725              5             8        153         104                  8   \n",
       "99289              5             6        153          86                  8   \n",
       "\n",
       "        total_run_x  \n",
       "102857          198  \n",
       "25149           219  \n",
       "48654           167  \n",
       "85032           165  \n",
       "4883            182  \n",
       "...             ...  \n",
       "35396           189  \n",
       "78968           162  \n",
       "14571           222  \n",
       "25725           182  \n",
       "99289           205  \n",
       "\n",
       "[21321 rows x 6 columns]"
      ]
     },
     "execution_count": 34,
     "metadata": {},
     "output_type": "execute_result"
    }
   ],
   "source": [
    "X_test"
   ]
  }
 ],
 "metadata": {
  "kernelspec": {
   "display_name": "Python 3",
   "language": "python",
   "name": "python3"
  },
  "language_info": {
   "codemirror_mode": {
    "name": "ipython",
    "version": 3
   },
   "file_extension": ".py",
   "mimetype": "text/x-python",
   "name": "python",
   "nbconvert_exporter": "python",
   "pygments_lexer": "ipython3",
   "version": "3.12.1"
  }
 },
 "nbformat": 4,
 "nbformat_minor": 2
}
